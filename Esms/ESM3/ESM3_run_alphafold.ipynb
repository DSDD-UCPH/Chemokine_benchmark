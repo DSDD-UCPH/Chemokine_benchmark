{
 "cells": [
  {
   "cell_type": "code",
   "execution_count": 23,
   "metadata": {},
   "outputs": [],
   "source": [
    "\n",
    "import requests\n",
    "from huggingface_hub import login\n",
    "import os\n",
    "from tools.chemo_recep_dict import dict_chemo, dict_recep\n",
    "from ESM3_run import chemokine_predict_ESM3, model_list\n",
    "from esm.models.esm3 import ESM3\n",
    "from esm.sdk.api import ESM3InferenceClient, ESMProtein, GenerationConfig\n",
    "import esm\n",
    "\n",
    "token = \"rAwNezEAHQducqLX5P4rw\"\n",
    "AlphaFold_path = \"../../AlphaFold_pdbs/\"\n",
    "path_recep = f\"../../AlphaFold_pdbs/Receptors/\"\n",
    "path_chemo = f\"../../AlphaFold_pdbs/chemokines/\"\n",
    "path_predict_dir = \"./from_AlphaFold_predicted\"\n",
    "if not os.path.exists(path_predict_dir ):os.mkdir(path_predict_dir)"
   ]
  },
  {
   "cell_type": "code",
   "execution_count": 2,
   "metadata": {},
   "outputs": [],
   "source": [
    "def download_AlphaFold_structures(dict_protein, type):\n",
    "    for id in dict_protein.keys():\n",
    "        pdb_url = f\"https://alphafold.ebi.ac.uk/files/AF-{id}-F1-model_v4.pdb\"\n",
    "        file_name = f\"{dict_protein[id]}.pdb\"\n",
    "        file_path = os.path.join(AlphaFold_path,type ,file_name)\n",
    "        response = requests.get(pdb_url)\n",
    "        if response.status_code == 200:\n",
    "            with open(file_path, \"wb\") as file:\n",
    "                file.write(response.content)\n",
    "        else:\n",
    "            print(f\"Failed to download the structure file of {dict_protein[id]}.\")\n",
    "#download_AlphaFold_structures(dict_chemo, \"Chemokines\")\n",
    "#download_AlphaFold_structures(dict_recep, \"Receptors\")\n",
    "\n"
   ]
  },
  {
   "cell_type": "code",
   "execution_count": null,
   "metadata": {},
   "outputs": [],
   "source": [
    "for gene_id_1 in dict_recep.values():\n",
    "    for gene_id_2 in dict_chemo.values():\n",
    "        path_pdb1 = os.path.join(path_recep, gene_id_1 + \".pdb\")\n",
    "        path_pdb2 = os.path.join(path_chemo, gene_id_2 + \".pdb\")\n",
    "        chain1 = \"A\"\n",
    "        chain2 = \"A\"\n",
    "        path_predict = os.path.join(path_predict_dir, f\"{gene_id_1}_{gene_id_2}\")\n",
    "        os.makedirs(path_predict, exist_ok=True)\n",
    "        chemokine_predict_ESM3(model_list, path_pdb1, path_pdb2, chain1, chain2, path_predict)\n"
   ]
  },
  {
   "cell_type": "markdown",
   "metadata": {},
   "source": [
    "# I am using the credits on the ESM3 console?\n",
    "\n",
    "This is a small example I made for testing whether a simpler example, uses the credits. This code example is taken form their own GitHub, I only changed the chain. Fortunately or unfortunately, my credits were not used, although the prediction looked quite folded nicely.  "
   ]
  },
  {
   "cell_type": "code",
   "execution_count": 13,
   "metadata": {},
   "outputs": [],
   "source": [
    "prompt = \"MQIITTALVCLLLAGMWPEDVDSKSMQVPFSRCCFSFAEQEIPLRAILCYRNTSSICSNEGLIFKLKRGKEACALDTVGWVQRHRKMLRHCPSKRK\"\n",
    "protein = ESMProtein(sequence=prompt)\n",
    "model: ESM3InferenceClient = esm.sdk.client(\"esm3-medium-2024-08\", token=token)\n",
    "#protein = model.generate(protein, GenerationConfig(track=\"sequence\", num_steps=8, temperature=0.7))\n",
    "# We can show the predicted structure for the generated sequence.\n",
    "protein = model.generate(protein, GenerationConfig(track=\"structure\", num_steps=8))\n",
    "protein.to_pdb(\"./generation.pdb\")"
   ]
  },
  {
   "cell_type": "markdown",
   "metadata": {},
   "source": [
    "# Pdb mess generated from ESM3, fixed the pdb files and now it can be read by Pymol and biopython pdb parser."
   ]
  },
  {
   "cell_type": "code",
   "execution_count": null,
   "metadata": {},
   "outputs": [],
   "source": [
    "def fix_pdb_chains(input_pdb, output_pdb):\n",
    "    first_chain = 'A'  \n",
    "    second_chain = 'B'  \n",
    "    switched_to_b = False \n",
    "    change_atom_num = False \n",
    "    output_lines = []\n",
    "\n",
    "    with open(input_pdb, 'r') as infile:\n",
    "        for i, line in enumerate(infile):\n",
    "            if line.startswith((\"ATOM\", \"HETATM\")):  \n",
    "                res_num = int(line[23:26].strip())  \n",
    "                atom_num = int(line[7:11].strip())\n",
    "                atom_type = line[77:78].strip()\n",
    "                if res_num==1 and i>15 and atom_type == \"N\":\n",
    "                    length_chainA = atom_num -1\n",
    "                    change_atom_num = True\n",
    "                    switched_to_b = True\n",
    "                if switched_to_b and change_atom_num:\n",
    "                    line = line[:21] + second_chain + line[22:] \n",
    "                    new_atom_num = atom_num - length_chainA \n",
    "                    new_atom_num_str = f\"{new_atom_num:5d}\"\n",
    "                    line = line[:6] + new_atom_num_str + line[11:]\n",
    "                else: \n",
    "                    pass\n",
    "                output_lines.append(line)\n",
    "    with open(output_pdb, 'w') as outfile:\n",
    "        outfile.writelines(output_lines)\n",
    "\n",
    "    print(f\"Fixed PDB saved as {output_pdb}\")\n",
    "\n",
    "# Example usage:\n",
    "#fix_pdb_chains(\"/Users/gzs260/GitHub/Chemokine_benchmark/Esms/ESM3/from_AlphaFold_predicted/CCR1_CCL1/esm3-medium-2024-08/CCR1_CCL1.pdb\", \"output.pdb\")\n",
    "\n",
    "path_fixed_pdbs = \"./from_AF_predict_fixed_pdbs/\"\n",
    "if not os.path.exists(path_fixed_pdbs):os.mkdir(path_fixed_pdbs)\n",
    "list_dir_CR=os.listdir(path_predict_dir)\n",
    "model_medium = \"esm3-medium-2024-08\"\n",
    "model_multi = \"esm3-medium-multimer-2024-09\"\n",
    "def pdb_all_CR(model_n, path_predict_dir=path_predict_dir, path_fixed_pdbs=path_fixed_pdbs):\n",
    "    path_model_fixed = os.path.join(path_fixed_pdbs, model_n)\n",
    "    if not os.path.exists(path_model_fixed):os.mkdir(path_model_fixed)\n",
    "    for dir in list_dir_CR:\n",
    "        path_mess = os.path.join(path_predict_dir, dir, model_n, dir + \".pdb\")\n",
    "        path_fixed = os.path.join(path_model_fixed, dir + \".pdb\")\n",
    "        fix_pdb_chains(path_mess, path_fixed)\n",
    "\n",
    "pdb_all_CR(model_n = model_medium)\n",
    "pdb_all_CR(model_n = model_multi)\n"
   ]
  }
 ],
 "metadata": {
  "kernelspec": {
   "display_name": "Python 3",
   "language": "python",
   "name": "python3"
  },
  "language_info": {
   "codemirror_mode": {
    "name": "ipython",
    "version": 3
   },
   "file_extension": ".py",
   "mimetype": "text/x-python",
   "name": "python",
   "nbconvert_exporter": "python",
   "pygments_lexer": "ipython3",
   "version": "3.11.11"
  }
 },
 "nbformat": 4,
 "nbformat_minor": 2
}
